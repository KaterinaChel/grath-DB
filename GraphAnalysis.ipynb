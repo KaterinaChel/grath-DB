{
 "cells": [
  {
   "cell_type": "markdown",
   "id": "355556d1-f6c3-4189-a12f-8735bdedd3e4",
   "metadata": {},
   "source": [
    "# 1 Import library"
   ]
  },
  {
   "cell_type": "code",
   "execution_count": 1,
   "id": "04ed5682",
   "metadata": {},
   "outputs": [],
   "source": [
    "from matplotlib import pyplot as plt\n",
    "import sklearn\n",
    "import pandas as pd\n",
    "import time"
   ]
  },
  {
   "cell_type": "code",
   "execution_count": 2,
   "id": "765e9210",
   "metadata": {},
   "outputs": [],
   "source": [
    "import numpy as np"
   ]
  },
  {
   "cell_type": "code",
   "execution_count": 3,
   "id": "26979dac",
   "metadata": {},
   "outputs": [],
   "source": [
    "from neo4j import GraphDatabase"
   ]
  },
  {
   "cell_type": "code",
   "execution_count": 4,
   "id": "9534604b",
   "metadata": {},
   "outputs": [],
   "source": [
    "from pandas import DataFrame"
   ]
  },
  {
   "cell_type": "code",
   "execution_count": 5,
   "id": "06925905-fb6c-4189-98c5-7134008b2ee3",
   "metadata": {},
   "outputs": [],
   "source": [
    "import json"
   ]
  },
  {
   "cell_type": "code",
   "execution_count": 6,
   "id": "a6b98755-c5a0-4ff9-a0e3-c2ab05a5c3f2",
   "metadata": {},
   "outputs": [],
   "source": [
    "from yfiles_jupyter_graphs import GraphWidget"
   ]
  },
  {
   "cell_type": "code",
   "execution_count": 7,
   "id": "f3419afb-7a08-446c-85c1-f8e0197f8770",
   "metadata": {},
   "outputs": [],
   "source": [
    "import matplotlib"
   ]
  },
  {
   "cell_type": "code",
   "execution_count": 8,
   "id": "0e7a8d3b-aaf4-4c86-baf5-2d49ddea8f3c",
   "metadata": {},
   "outputs": [],
   "source": [
    "from graphdatascience import GraphDataScience"
   ]
  },
  {
   "cell_type": "code",
   "execution_count": 43,
   "id": "05112209-5598-4c01-87a5-6fe8ebb48df4",
   "metadata": {
    "collapsed": true
   },
   "outputs": [
    {
     "name": "stdout",
     "output_type": "stream",
     "text": [
      "Collecting graphdatascience\n",
      "  Downloading graphdatascience-1.6-py3-none-any.whl (918 kB)\n",
      "     ------------------------------------- 919.0/919.0 kB 14.7 MB/s eta 0:00:00\n",
      "Requirement already satisfied: pandas<2.0,>=1.0 in d:\\anaconda\\lib\\site-packages (from graphdatascience) (1.5.3)\n",
      "Collecting multimethod<2.0,>=1.0\n",
      "  Downloading multimethod-1.9.1-py3-none-any.whl (10 kB)\n",
      "Requirement already satisfied: tqdm<5.0,>=4.0 in d:\\anaconda\\lib\\site-packages (from graphdatascience) (4.64.1)\n",
      "Requirement already satisfied: neo4j<6.0,>=4.4.2 in d:\\anaconda\\lib\\site-packages (from graphdatascience) (5.6.0)\n",
      "Collecting pyarrow<11.0,>=4.0\n",
      "  Downloading pyarrow-10.0.1-cp310-cp310-win_amd64.whl (20.2 MB)\n",
      "     ---------------------------------------- 20.2/20.2 MB 2.6 MB/s eta 0:00:00\n",
      "Requirement already satisfied: pytz in d:\\anaconda\\lib\\site-packages (from neo4j<6.0,>=4.4.2->graphdatascience) (2022.7)\n",
      "Requirement already satisfied: numpy>=1.21.0 in d:\\anaconda\\lib\\site-packages (from pandas<2.0,>=1.0->graphdatascience) (1.23.5)\n",
      "Requirement already satisfied: python-dateutil>=2.8.1 in d:\\anaconda\\lib\\site-packages (from pandas<2.0,>=1.0->graphdatascience) (2.8.2)\n",
      "Requirement already satisfied: colorama in d:\\anaconda\\lib\\site-packages (from tqdm<5.0,>=4.0->graphdatascience) (0.4.6)\n",
      "Requirement already satisfied: six>=1.5 in d:\\anaconda\\lib\\site-packages (from python-dateutil>=2.8.1->pandas<2.0,>=1.0->graphdatascience) (1.16.0)\n",
      "Installing collected packages: pyarrow, multimethod, graphdatascience\n",
      "Successfully installed graphdatascience-1.6 multimethod-1.9.1 pyarrow-10.0.1\n",
      "Note: you may need to restart the kernel to use updated packages.\n"
     ]
    }
   ],
   "source": [
    "pip install graphdatascience"
   ]
  },
  {
   "cell_type": "markdown",
   "id": "5b5f9033-1ad2-48ca-af63-cbd6aaefe2ad",
   "metadata": {},
   "source": [
    "# 2 Load data and create database"
   ]
  },
  {
   "cell_type": "code",
   "execution_count": 9,
   "id": "ab3fc813",
   "metadata": {},
   "outputs": [],
   "source": [
    "data = pd.read_csv('data_test.csv')"
   ]
  },
  {
   "cell_type": "code",
   "execution_count": 10,
   "id": "e30a05da",
   "metadata": {},
   "outputs": [
    {
     "data": {
      "text/html": [
       "<div>\n",
       "<style scoped>\n",
       "    .dataframe tbody tr th:only-of-type {\n",
       "        vertical-align: middle;\n",
       "    }\n",
       "\n",
       "    .dataframe tbody tr th {\n",
       "        vertical-align: top;\n",
       "    }\n",
       "\n",
       "    .dataframe thead th {\n",
       "        text-align: right;\n",
       "    }\n",
       "</style>\n",
       "<table border=\"1\" class=\"dataframe\">\n",
       "  <thead>\n",
       "    <tr style=\"text-align: right;\">\n",
       "      <th></th>\n",
       "      <th>idEvent;FullName1;FullName2</th>\n",
       "    </tr>\n",
       "  </thead>\n",
       "  <tbody>\n",
       "    <tr>\n",
       "      <th>0</th>\n",
       "      <td>189;Галчевская Карина Владимировна;Белоновская...</td>\n",
       "    </tr>\n",
       "    <tr>\n",
       "      <th>1</th>\n",
       "      <td>206;Офицеров Олег Романович;Сапожник Борис Вал...</td>\n",
       "    </tr>\n",
       "    <tr>\n",
       "      <th>2</th>\n",
       "      <td>445;Жандарова Лариса Германовна;Чемодуров Дами...</td>\n",
       "    </tr>\n",
       "    <tr>\n",
       "      <th>3</th>\n",
       "      <td>503;Масимова Яна Дамировна;Мингажетдинов Рамил...</td>\n",
       "    </tr>\n",
       "  </tbody>\n",
       "</table>\n",
       "</div>"
      ],
      "text/plain": [
       "                         idEvent;FullName1;FullName2\n",
       "0  189;Галчевская Карина Владимировна;Белоновская...\n",
       "1  206;Офицеров Олег Романович;Сапожник Борис Вал...\n",
       "2  445;Жандарова Лариса Германовна;Чемодуров Дами...\n",
       "3  503;Масимова Яна Дамировна;Мингажетдинов Рамил..."
      ]
     },
     "execution_count": 10,
     "metadata": {},
     "output_type": "execute_result"
    }
   ],
   "source": [
    "data[:4]"
   ]
  },
  {
   "cell_type": "code",
   "execution_count": 11,
   "id": "29b50baa",
   "metadata": {},
   "outputs": [],
   "source": [
    "#Создадим класс для подключения к базе данных\n",
    "class Neo4jConnection:\n",
    "    def __init__(self, uri, user, password):\n",
    "        self.driver = GraphDatabase.driver(uri, auth=(user, password))\n",
    "\n",
    "    def close(self):\n",
    "        if self.driver is not None:\n",
    "            self.driver.close()\n",
    "\n",
    "# Метод, который передает запрос в БД и возвращает данные в виде списка\n",
    "    def query(self, query, db=None):\n",
    "        assert self.driver is not None, \"Driver not initialized!\"\n",
    "        session = None\n",
    "        response = None\n",
    "        try:\n",
    "            session = self.driver.session(database=db) if db is not None else self.driver.session()\n",
    "            response = list(session.run(query))\n",
    "        except Exception as e:\n",
    "            print(\"Query failed:\", e)\n",
    "        finally:\n",
    "            if session is not None:\n",
    "                session.close()\n",
    "        return response\n",
    "\n",
    "# Метод, который передает запрос в БД и возвращает данные в виде графа\n",
    "    def query_graph(self, query_graph, db=None):\n",
    "        assert self.driver is not None, \"Driver not initialized!\"\n",
    "        session = None\n",
    "        response = None\n",
    "        try:\n",
    "            session = self.driver.session(database=db) if db is not None else self.driver.session()\n",
    "            response = session.run(query_graph).graph()\n",
    "        except Exception as e:\n",
    "            print(\"Query failed:\", e)\n",
    "        finally:\n",
    "            if session is not None:\n",
    "                session.close()\n",
    "        return response\n",
    "    \n",
    "# Метод, который передает запрос в БД и возвращает данные в виде json\n",
    "    def query_json(self, query_json, db=None):\n",
    "        assert self.driver is not None, \"Driver not initialized!\"\n",
    "        session = None\n",
    "        response = None\n",
    "        try:\n",
    "            session = self.driver.session(database=db) if db is not None else self.driver.session()\n",
    "            response = session.run(query_json)\n",
    "            data = response.data()\n",
    "            data = json.dumps(data, ensure_ascii=False)\n",
    "        except Exception as e:\n",
    "            print(\"Query failed:\", e)\n",
    "        finally:\n",
    "            if session is not None:\n",
    "                session.close()\n",
    "        return data\n",
    "    \n",
    "    \n",
    "    # Метод, который передает запрос в БД c идентификатором и возвращает данные в виде json\n",
    "    def query_json_id(self, query_json_id, parametrs, db=None):\n",
    "        assert self.driver is not None, \"Driver not initialized!\"\n",
    "        session = None\n",
    "        response = None\n",
    "        try:\n",
    "            session = self.driver.session(database=db) if db is not None else self.driver.session()\n",
    "            response = session.run(query_json_id, parametrs)\n",
    "            data = response.data()\n",
    "            data = json.dumps(data, ensure_ascii=False)\n",
    "        except Exception as e:\n",
    "            print(\"Query failed:\", e)\n",
    "        finally:\n",
    "            if session is not None:\n",
    "                session.close()\n",
    "        return data\n",
    "    "
   ]
  },
  {
   "cell_type": "code",
   "execution_count": 12,
   "id": "71afa322-7d3d-469b-a088-39e3e441447e",
   "metadata": {},
   "outputs": [
    {
     "data": {
      "text/plain": [
       "'Ekaterina'"
      ]
     },
     "execution_count": 12,
     "metadata": {},
     "output_type": "execute_result"
    }
   ],
   "source": [
    "#Извлечем необходимые данные из ранее созданного файла(локалхост, узер, пароль) для покдлючения к базе данных. Проверим корректность извлечения.\n",
    "with open('entrance.txt','r') as ent:\n",
    "    data = ent.read().split(',')\n",
    "uri_my = eval(data[0].split('=')[1])\n",
    "user_my = eval(data[1].split('=')[1])\n",
    "password_my = eval(data[2].split('=')[1])\n",
    "user_my"
   ]
  },
  {
   "cell_type": "code",
   "execution_count": 13,
   "id": "29b34c9b",
   "metadata": {},
   "outputs": [],
   "source": [
    "#Подключаемся к базе данных\n",
    "conn = Neo4jConnection(uri=uri_my, user=user_my, password=password_my)"
   ]
  },
  {
   "cell_type": "code",
   "execution_count": 104,
   "id": "32840e5c-f40b-4494-ae9c-c294ffaba486",
   "metadata": {},
   "outputs": [
    {
     "data": {
      "text/plain": [
       "[]"
      ]
     },
     "execution_count": 104,
     "metadata": {},
     "output_type": "execute_result"
    }
   ],
   "source": [
    "#Создаем пустую базу данных\n",
    "conn.query(\"CREATE OR REPLACE DATABASE graphdb\")"
   ]
  },
  {
   "cell_type": "code",
   "execution_count": null,
   "id": "d25a813b-ecf4-42b3-80b5-fefd119736af",
   "metadata": {},
   "outputs": [],
   "source": [
    "#Создаем ноды и свойства участник события, используя информацию из файла data_test.csv\n",
    "#query_string = '''\n",
    "#LOAD CSV WITH HEADERS FROM\n",
    "#'https://raw.githubusercontent.com/KaterinaChel/grath-DB/main/data_test.csv'\n",
    "#AS line FIELDTERMINATOR ';'\n",
    "#MERGE (member:Member {fullname: line.FullName1})\n",
    "#  ON CREATE SET member.idEvent = line.idEvent\n",
    "#  ON MATCH SET member.idEvent2 = line.idEvent\n",
    "#MERGE (member2:Member {fullname: line.FullName2})\n",
    "#  ON CREATE SET member2.idEvent = line.idEvent\n",
    "#  ON MATCH SET member2.idEvent2 = line.idEvent;\n",
    "#  \n",
    "#'''\n",
    "#conn.query(query_string, db='graphdb')"
   ]
  },
  {
   "cell_type": "code",
   "execution_count": 105,
   "id": "a74833b8",
   "metadata": {},
   "outputs": [
    {
     "data": {
      "text/plain": [
       "[]"
      ]
     },
     "execution_count": 105,
     "metadata": {},
     "output_type": "execute_result"
    }
   ],
   "source": [
    "#Создаем ноды и свойства участник события, используя информацию из файла data_test.csv\n",
    "query_string = '''\n",
    "LOAD CSV WITH HEADERS FROM\n",
    "'https://raw.githubusercontent.com/KaterinaChel/grath-DB/main/data_test.csv'\n",
    "AS line FIELDTERMINATOR ';'\n",
    "MERGE (member:Member {fullname: line.FullName1})\n",
    "  ON CREATE SET member.idEvent = line.idEvent\n",
    "  on MATCH SET member.idEvent = apoc.convert.toSet(member.idEvent + [line.idEvent]) \n",
    "MERGE (member2:Member {fullname: line.FullName2})\n",
    "  ON CREATE SET member2.idEvent = line.idEvent\n",
    "  on MATCH SET member2.idEvent = apoc.convert.toSet(member2.idEvent + [line.idEvent]);\n",
    "  \n",
    "'''\n",
    "conn.query(query_string, db='graphdb')"
   ]
  },
  {
   "cell_type": "code",
   "execution_count": 106,
   "id": "b4b720d2",
   "metadata": {},
   "outputs": [
    {
     "data": {
      "text/plain": [
       "[]"
      ]
     },
     "execution_count": 106,
     "metadata": {},
     "output_type": "execute_result"
    }
   ],
   "source": [
    "#Создаем ноды и свойства событие, используя информацию из файла data_test.csv\n",
    "query_string = '''\n",
    "LOAD CSV WITH HEADERS FROM\n",
    "'https://raw.githubusercontent.com/KaterinaChel/grath-DB/main/data_test.csv'\n",
    "AS line FIELDTERMINATOR ';'\n",
    "MERGE (event:Event {idEvent: line.idEvent})\n",
    "  ON CREATE SET event.fullname1 = line.FullName1\n",
    "  ON CREATE SET event.fullname2 = line.FullName2\n",
    "  ON MATCH SET event.fullname3 = line.FullName1\n",
    "  ON MATCH SET event.fullname4 = line.FullName2;\n",
    "  \n",
    "'''\n",
    "conn.query(query_string, db='graphdb')"
   ]
  },
  {
   "cell_type": "code",
   "execution_count": 30,
   "id": "4597cc7d-5912-4353-9ad0-960fe7edda23",
   "metadata": {},
   "outputs": [
    {
     "data": {
      "text/plain": [
       "[]"
      ]
     },
     "execution_count": 30,
     "metadata": {},
     "output_type": "execute_result"
    }
   ],
   "source": [
    "#Создаем ноды и свойства событие, используя информацию из файла data_test.csv\n",
    "#query_string = '''\n",
    "#LOAD CSV WITH HEADERS FROM\n",
    "#'https://raw.githubusercontent.com/KaterinaChel/grath-DB/main/data_test.csv'\n",
    "#AS line FIELDTERMINATOR ';'\n",
    "#MERGE (event:Event {idEvent: line.idEvent})\n",
    "#  ON CREATE SET event.fullname1 = line.FullName1\n",
    "#  ON CREATE SET event.fullname2 = line.FullName2\n",
    "#  on MATCH SET event.fullname1 = apoc.convert.toSet(event.fullname1 + [line.FullName1])\n",
    "#  on MATCH SET event.fullname2 = apoc.convert.toSet(event.fullname2 + [line.FullName2]);\n",
    "  \n",
    "#'''\n",
    "#conn.query(query_string, db='graphdb')"
   ]
  },
  {
   "cell_type": "code",
   "execution_count": 107,
   "id": "fdd2450a-5fbd-49ed-98c8-1c1478283e08",
   "metadata": {},
   "outputs": [
    {
     "data": {
      "text/plain": [
       "[]"
      ]
     },
     "execution_count": 107,
     "metadata": {},
     "output_type": "execute_result"
    }
   ],
   "source": [
    "#Создаем отношения участник события -[участвовал]->событие\n",
    "query_string ='''\n",
    "LOAD CSV WITH HEADERS FROM 'https://raw.githubusercontent.com/KaterinaChel/grath-DB/main/data_test.csv?token=GHSAT0AAAAAAB6WRB4BI7D3HNOJHAKWIKUQZAMF4NA' AS line FIELDTERMINATOR ';'\n",
    "MATCH (member1:Member {fullname: line.FullName1})\n",
    "MATCH (member2:Member {fullname: line.FullName2})\n",
    "MATCH (event:Event {idEvent: line.idEvent})\n",
    "CREATE (member1)-[:PARTICIPATE]->(event)\n",
    "CREATE (member2)-[:PARTICIPATE]->(event);\n",
    "'''\n",
    "conn.query(query_string, db='graphdb')"
   ]
  },
  {
   "cell_type": "markdown",
   "id": "e32facaf-99d3-47eb-9e0d-2599c92c9b09",
   "metadata": {},
   "source": [
    "# 3 Analysys graph db"
   ]
  },
  {
   "cell_type": "code",
   "execution_count": 19,
   "id": "29b35ef6",
   "metadata": {},
   "outputs": [
    {
     "data": {
      "application/vnd.jupyter.widget-view+json": {
       "model_id": "0915bfc43c144d609d5925aac5b0d842",
       "version_major": 2,
       "version_minor": 0
      },
      "text/plain": [
       "GraphWidget(layout=Layout(height='500px', width='100%'))"
      ]
     },
     "metadata": {},
     "output_type": "display_data"
    }
   ],
   "source": [
    "#Выберем 100 случайных элементов участников событий для просмотра\n",
    "query ='''\n",
    "MATCH p = (m)-[*]-(e)\n",
    "RETURN p LIMIT 100;\n",
    "'''\n",
    "data_t=conn.query_graph(query, db='graphdb')\n",
    "w = GraphWidget(graph=data_t)\n",
    "w.set_node_color_mapping(lambda index, node: \"blue\" if node[\"properties\"][\"label\"] == \"Member\" else \"orange\")\n",
    "w.set_node_label_mapping(lambda index, node: node[\"properties\"][\"fullname\"] if node[\"properties\"][\"label\"] == \"Member\" else node[\"properties\"][\"idEvent\"])\n",
    "w.show()"
   ]
  },
  {
   "cell_type": "code",
   "execution_count": 20,
   "id": "304af814",
   "metadata": {
    "tags": []
   },
   "outputs": [],
   "source": [
    "query_string ='''\n",
    "MATCH(event:Event) RETURN Count(event);\n",
    "'''\n",
    "result_e=conn.query(query_string, db='graphdb')\n",
    "count_e = int(''.join(filter(str.isdigit, str(result_e[0]))))"
   ]
  },
  {
   "cell_type": "code",
   "execution_count": 21,
   "id": "379c3d55",
   "metadata": {},
   "outputs": [],
   "source": [
    "query_string ='''\n",
    "MATCH(member:Member) RETURN Count(member);\n",
    "'''\n",
    "result_m = conn.query(query_string, db='graphdb')\n",
    "count_m = int(''.join(filter(str.isdigit, str(result_m[0]))))"
   ]
  },
  {
   "cell_type": "code",
   "execution_count": 22,
   "id": "5c201fc9",
   "metadata": {},
   "outputs": [
    {
     "name": "stdout",
     "output_type": "stream",
     "text": [
      "Number of members 9899, number of events 4985 \n"
     ]
    }
   ],
   "source": [
    "print(f\"Number of members {count_m}, number of events {count_e} \")"
   ]
  },
  {
   "cell_type": "code",
   "execution_count": 23,
   "id": "0e9bac51",
   "metadata": {},
   "outputs": [
    {
     "name": "stdout",
     "output_type": "stream",
     "text": [
      "Member    9899\n",
      "Event     4985\n",
      "dtype: int64\n"
     ]
    },
    {
     "data": {
      "image/png": "[encoded data removed]",
      "text/plain": [
       "<Figure size 640x480 with 1 Axes>"
      ]
     },
     "metadata": {},
     "output_type": "display_data"
    }
   ],
   "source": [
    "#Посмотрим отношение участников событий к самим событиям\n",
    "df_result_count=pd.Series({\"Member\":count_m,\"Event\":count_e})\n",
    "print(df_result_count)\n",
    "df_result_count.plot(kind=\"bar\",color=[\"green\",\"yellow\"])\n",
    "plt.xlabel(\"Node Label\")\n",
    "plt.ylabel(\"No Of Nodes\")\n",
    "plt.show()"
   ]
  },
  {
   "cell_type": "markdown",
   "id": "2027f387-c5a5-4d32-87d8-794e5ece9b8b",
   "metadata": {},
   "source": [
    "Событий меньше в ~ 2 раза, чем участников, однако не точно в 2 раза, а в 1,98 раза, можно предположить, что:\n",
    "* есть участники, принимающие участие более, чем в 1ом событии,\n",
    "* есть события, где принимает участие 1 участник, возможно есть пропуски в данных"
   ]
  },
  {
   "cell_type": "code",
   "execution_count": 24,
   "id": "f9c9cb0b",
   "metadata": {
    "scrolled": false,
    "tags": []
   },
   "outputs": [
    {
     "data": {
      "text/html": [
       "<div>\n",
       "<style scoped>\n",
       "    .dataframe tbody tr th:only-of-type {\n",
       "        vertical-align: middle;\n",
       "    }\n",
       "\n",
       "    .dataframe tbody tr th {\n",
       "        vertical-align: top;\n",
       "    }\n",
       "\n",
       "    .dataframe thead th {\n",
       "        text-align: right;\n",
       "    }\n",
       "</style>\n",
       "<table border=\"1\" class=\"dataframe\">\n",
       "  <thead>\n",
       "    <tr style=\"text-align: right;\">\n",
       "      <th></th>\n",
       "      <th>FullName</th>\n",
       "      <th>idEvent</th>\n",
       "      <th>Total</th>\n",
       "    </tr>\n",
       "  </thead>\n",
       "  <tbody>\n",
       "    <tr>\n",
       "      <th>0</th>\n",
       "      <td>Ахромеева Алина Ивановна</td>\n",
       "      <td>[42389, 53707, 59801, 61824, 89429, 90615, 128...</td>\n",
       "      <td>50</td>\n",
       "    </tr>\n",
       "    <tr>\n",
       "      <th>1</th>\n",
       "      <td>Башнина Антонина Глебовна</td>\n",
       "      <td>[66267, 208421, 224711, 292757, 370508, 379611...</td>\n",
       "      <td>14</td>\n",
       "    </tr>\n",
       "    <tr>\n",
       "      <th>2</th>\n",
       "      <td>Медведева Дарья Алексеевна</td>\n",
       "      <td>[87253, 109281, 173973, 196243, 327044, 580478]</td>\n",
       "      <td>6</td>\n",
       "    </tr>\n",
       "    <tr>\n",
       "      <th>3</th>\n",
       "      <td>Зимнухова Карина Даниловна</td>\n",
       "      <td>[132775, 241336, 346700, 348716, 504411]</td>\n",
       "      <td>5</td>\n",
       "    </tr>\n",
       "    <tr>\n",
       "      <th>4</th>\n",
       "      <td>Диомидов Игорь Ильдарович</td>\n",
       "      <td>[361353, 513700, 608245, 885195, 906600]</td>\n",
       "      <td>5</td>\n",
       "    </tr>\n",
       "    <tr>\n",
       "      <th>5</th>\n",
       "      <td>Шолохов Игорь Робертович</td>\n",
       "      <td>[218462, 750824, 829652, 875321]</td>\n",
       "      <td>4</td>\n",
       "    </tr>\n",
       "    <tr>\n",
       "      <th>6</th>\n",
       "      <td>Двигубская Валентина Геннадьевна</td>\n",
       "      <td>[218462, 355320, 798803]</td>\n",
       "      <td>3</td>\n",
       "    </tr>\n",
       "    <tr>\n",
       "      <th>7</th>\n",
       "      <td>Пафомова Кира Вадимовна</td>\n",
       "      <td>[99439, 829652, 958318]</td>\n",
       "      <td>3</td>\n",
       "    </tr>\n",
       "    <tr>\n",
       "      <th>8</th>\n",
       "      <td>Ляуданский Валентин Владиславович</td>\n",
       "      <td>[99439, 913605]</td>\n",
       "      <td>2</td>\n",
       "    </tr>\n",
       "    <tr>\n",
       "      <th>9</th>\n",
       "      <td>Мараховская Дарья Романовна</td>\n",
       "      <td>[732922, 958318]</td>\n",
       "      <td>2</td>\n",
       "    </tr>\n",
       "    <tr>\n",
       "      <th>10</th>\n",
       "      <td>Торгунаков Роман Кириллович</td>\n",
       "      <td>[750824, 913605]</td>\n",
       "      <td>2</td>\n",
       "    </tr>\n",
       "    <tr>\n",
       "      <th>11</th>\n",
       "      <td>Поскребышев Яков Дмитриевич</td>\n",
       "      <td>[799632, 815533]</td>\n",
       "      <td>2</td>\n",
       "    </tr>\n",
       "    <tr>\n",
       "      <th>12</th>\n",
       "      <td>Дорожкин Анатолий Егорович</td>\n",
       "      <td>[667986, 798803]</td>\n",
       "      <td>2</td>\n",
       "    </tr>\n",
       "    <tr>\n",
       "      <th>13</th>\n",
       "      <td>Яцкой Роберт Ильдарович</td>\n",
       "      <td>[684804, 745893]</td>\n",
       "      <td>2</td>\n",
       "    </tr>\n",
       "    <tr>\n",
       "      <th>14</th>\n",
       "      <td>Радионова Тамара Ярославовна</td>\n",
       "      <td>[590800, 608245]</td>\n",
       "      <td>2</td>\n",
       "    </tr>\n",
       "    <tr>\n",
       "      <th>15</th>\n",
       "      <td>Бугайчук Роман Эдуардович</td>\n",
       "      <td>[590800, 972769]</td>\n",
       "      <td>2</td>\n",
       "    </tr>\n",
       "    <tr>\n",
       "      <th>16</th>\n",
       "      <td>Троекуров Глеб Ефимович</td>\n",
       "      <td>[410960, 732922]</td>\n",
       "      <td>2</td>\n",
       "    </tr>\n",
       "    <tr>\n",
       "      <th>17</th>\n",
       "      <td>Нагайцева Анжелика Яновна</td>\n",
       "      <td>[410960, 875321]</td>\n",
       "      <td>2</td>\n",
       "    </tr>\n",
       "    <tr>\n",
       "      <th>18</th>\n",
       "      <td>Подолян Владислав Денисович</td>\n",
       "      <td>[195222, 799632]</td>\n",
       "      <td>2</td>\n",
       "    </tr>\n",
       "    <tr>\n",
       "      <th>19</th>\n",
       "      <td>Недовесков Владимир Иванович</td>\n",
       "      <td>[195222, 684804]</td>\n",
       "      <td>2</td>\n",
       "    </tr>\n",
       "    <tr>\n",
       "      <th>20</th>\n",
       "      <td>Каехтин Ильдар Эдуардович</td>\n",
       "      <td>[328508, 745893]</td>\n",
       "      <td>2</td>\n",
       "    </tr>\n",
       "    <tr>\n",
       "      <th>21</th>\n",
       "      <td>Майлина Гульнара Ивановна</td>\n",
       "      <td>[328508, 815533]</td>\n",
       "      <td>2</td>\n",
       "    </tr>\n",
       "    <tr>\n",
       "      <th>22</th>\n",
       "      <td>Анихнова Тамара Руслановна</td>\n",
       "      <td>[348716, 972769]</td>\n",
       "      <td>2</td>\n",
       "    </tr>\n",
       "    <tr>\n",
       "      <th>23</th>\n",
       "      <td>Ивашев Вячеслав Игоревич</td>\n",
       "      <td>[355320, 389500]</td>\n",
       "      <td>2</td>\n",
       "    </tr>\n",
       "    <tr>\n",
       "      <th>24</th>\n",
       "      <td>Рыскина Эльмира Ивановна</td>\n",
       "      <td>[389500, 912479]</td>\n",
       "      <td>2</td>\n",
       "    </tr>\n",
       "    <tr>\n",
       "      <th>25</th>\n",
       "      <td>Батиевская Ангелина Романовна</td>\n",
       "      <td>[294139, 667986]</td>\n",
       "      <td>2</td>\n",
       "    </tr>\n",
       "    <tr>\n",
       "      <th>26</th>\n",
       "      <td>Даниленко Владимир Семенович</td>\n",
       "      <td>[294139, 912479]</td>\n",
       "      <td>2</td>\n",
       "    </tr>\n",
       "  </tbody>\n",
       "</table>\n",
       "</div>"
      ],
      "text/plain": [
       "                             FullName  \\\n",
       "0            Ахромеева Алина Ивановна   \n",
       "1           Башнина Антонина Глебовна   \n",
       "2          Медведева Дарья Алексеевна   \n",
       "3          Зимнухова Карина Даниловна   \n",
       "4           Диомидов Игорь Ильдарович   \n",
       "5            Шолохов Игорь Робертович   \n",
       "6    Двигубская Валентина Геннадьевна   \n",
       "7             Пафомова Кира Вадимовна   \n",
       "8   Ляуданский Валентин Владиславович   \n",
       "9         Мараховская Дарья Романовна   \n",
       "10        Торгунаков Роман Кириллович   \n",
       "11        Поскребышев Яков Дмитриевич   \n",
       "12         Дорожкин Анатолий Егорович   \n",
       "13            Яцкой Роберт Ильдарович   \n",
       "14       Радионова Тамара Ярославовна   \n",
       "15          Бугайчук Роман Эдуардович   \n",
       "16            Троекуров Глеб Ефимович   \n",
       "17          Нагайцева Анжелика Яновна   \n",
       "18        Подолян Владислав Денисович   \n",
       "19       Недовесков Владимир Иванович   \n",
       "20          Каехтин Ильдар Эдуардович   \n",
       "21          Майлина Гульнара Ивановна   \n",
       "22         Анихнова Тамара Руслановна   \n",
       "23           Ивашев Вячеслав Игоревич   \n",
       "24           Рыскина Эльмира Ивановна   \n",
       "25      Батиевская Ангелина Романовна   \n",
       "26       Даниленко Владимир Семенович   \n",
       "\n",
       "                                              idEvent  Total  \n",
       "0   [42389, 53707, 59801, 61824, 89429, 90615, 128...     50  \n",
       "1   [66267, 208421, 224711, 292757, 370508, 379611...     14  \n",
       "2     [87253, 109281, 173973, 196243, 327044, 580478]      6  \n",
       "3            [132775, 241336, 346700, 348716, 504411]      5  \n",
       "4            [361353, 513700, 608245, 885195, 906600]      5  \n",
       "5                    [218462, 750824, 829652, 875321]      4  \n",
       "6                            [218462, 355320, 798803]      3  \n",
       "7                             [99439, 829652, 958318]      3  \n",
       "8                                     [99439, 913605]      2  \n",
       "9                                    [732922, 958318]      2  \n",
       "10                                   [750824, 913605]      2  \n",
       "11                                   [799632, 815533]      2  \n",
       "12                                   [667986, 798803]      2  \n",
       "13                                   [684804, 745893]      2  \n",
       "14                                   [590800, 608245]      2  \n",
       "15                                   [590800, 972769]      2  \n",
       "16                                   [410960, 732922]      2  \n",
       "17                                   [410960, 875321]      2  \n",
       "18                                   [195222, 799632]      2  \n",
       "19                                   [195222, 684804]      2  \n",
       "20                                   [328508, 745893]      2  \n",
       "21                                   [328508, 815533]      2  \n",
       "22                                   [348716, 972769]      2  \n",
       "23                                   [355320, 389500]      2  \n",
       "24                                   [389500, 912479]      2  \n",
       "25                                   [294139, 667986]      2  \n",
       "26                                   [294139, 912479]      2  "
      ]
     },
     "execution_count": 24,
     "metadata": {},
     "output_type": "execute_result"
    }
   ],
   "source": [
    "#Посмотрим кто из нашей базы данных участвовал в более чем 1 событии.А также узнаем количество событий участника и Id события\n",
    "query_string ='''\n",
    "MATCH (m:Member)-[:PARTICIPATE]->(e:Event)\n",
    "WITH m,collect(e.idEvent) as idEvent,count(*) as total\n",
    "WHERE total >= 2\n",
    "RETURN  m.fullname, idEvent,total\n",
    "ORDER BY total DESC;\n",
    "'''\n",
    "data_total_event = conn.query(query_string, db='graphdb')\n",
    "pd.DataFrame(data_total_event,columns=['FullName', 'idEvent', 'Total'])"
   ]
  },
  {
   "cell_type": "code",
   "execution_count": 25,
   "id": "5404685e-6b12-4106-9254-0286dc53ded7",
   "metadata": {},
   "outputs": [
    {
     "data": {
      "text/html": [
       "<div>\n",
       "<style scoped>\n",
       "    .dataframe tbody tr th:only-of-type {\n",
       "        vertical-align: middle;\n",
       "    }\n",
       "\n",
       "    .dataframe tbody tr th {\n",
       "        vertical-align: top;\n",
       "    }\n",
       "\n",
       "    .dataframe thead th {\n",
       "        text-align: right;\n",
       "    }\n",
       "</style>\n",
       "<table border=\"1\" class=\"dataframe\">\n",
       "  <thead>\n",
       "    <tr style=\"text-align: right;\">\n",
       "      <th></th>\n",
       "      <th>FullName</th>\n",
       "      <th>idEvent</th>\n",
       "      <th>Total</th>\n",
       "    </tr>\n",
       "  </thead>\n",
       "  <tbody>\n",
       "  </tbody>\n",
       "</table>\n",
       "</div>"
      ],
      "text/plain": [
       "Empty DataFrame\n",
       "Columns: [FullName, idEvent, Total]\n",
       "Index: []"
      ]
     },
     "execution_count": 25,
     "metadata": {},
     "output_type": "execute_result"
    }
   ],
   "source": [
    "#Посмотрим есть ли в нашей базе данных такие участники, которые не приняли участия ни в одном событие. Наличие таких участников может говорить об ошибках в данных\n",
    "query_string ='''\n",
    "MATCH (m:Member)-[:PARTICIPATE]->(e:Event)\n",
    "WITH m,collect(e.idEvent) as idEvent,count(*) as total\n",
    "WHERE total < 1\n",
    "RETURN  m.fullname, idEvent,total\n",
    "ORDER BY total DESC;\n",
    "'''\n",
    "data_total_event = conn.query(query_string, db='graphdb')\n",
    "pd.DataFrame(data_total_event,columns=['FullName', 'idEvent', 'Total'])"
   ]
  },
  {
   "cell_type": "code",
   "execution_count": 26,
   "id": "aa279b3f",
   "metadata": {},
   "outputs": [
    {
     "data": {
      "text/html": [
       "<div>\n",
       "<style scoped>\n",
       "    .dataframe tbody tr th:only-of-type {\n",
       "        vertical-align: middle;\n",
       "    }\n",
       "\n",
       "    .dataframe tbody tr th {\n",
       "        vertical-align: top;\n",
       "    }\n",
       "\n",
       "    .dataframe thead th {\n",
       "        text-align: right;\n",
       "    }\n",
       "</style>\n",
       "<table border=\"1\" class=\"dataframe\">\n",
       "  <thead>\n",
       "    <tr style=\"text-align: right;\">\n",
       "      <th></th>\n",
       "      <th>idEvent</th>\n",
       "      <th>FullName1</th>\n",
       "      <th>FullName2</th>\n",
       "      <th>FullName3</th>\n",
       "      <th>FullName4</th>\n",
       "      <th>Total</th>\n",
       "    </tr>\n",
       "  </thead>\n",
       "  <tbody>\n",
       "    <tr>\n",
       "      <th>0</th>\n",
       "      <td>70049</td>\n",
       "      <td>Яшина Полина Евгеньевна</td>\n",
       "      <td>Герасимовская Ксения Дамировна</td>\n",
       "      <td>Федова Анжелика Вадимовна</td>\n",
       "      <td>Вальдовский Альберт Ефимович</td>\n",
       "      <td>4</td>\n",
       "    </tr>\n",
       "    <tr>\n",
       "      <th>1</th>\n",
       "      <td>92995</td>\n",
       "      <td>Журик Альберт Евгеньевич</td>\n",
       "      <td>Бадьянова Римма Максимовна</td>\n",
       "      <td>Кучеренко Ирина Ильинична</td>\n",
       "      <td>Болтик Григорий Максимович</td>\n",
       "      <td>4</td>\n",
       "    </tr>\n",
       "    <tr>\n",
       "      <th>2</th>\n",
       "      <td>938764</td>\n",
       "      <td>Солтаганов Федор Ефимович</td>\n",
       "      <td>Хрисогонов Иван Геннадьевич</td>\n",
       "      <td>Самолов Михаил Алексеевич</td>\n",
       "      <td>Двигубская Яна Ивановна</td>\n",
       "      <td>4</td>\n",
       "    </tr>\n",
       "    <tr>\n",
       "      <th>3</th>\n",
       "      <td>985851</td>\n",
       "      <td>Павлюкова Наталья Федоровна</td>\n",
       "      <td>Клебан Игорь Глебович</td>\n",
       "      <td>Липунова Галина Ринатовна</td>\n",
       "      <td>Ноткина Альбина Михаиловна</td>\n",
       "      <td>4</td>\n",
       "    </tr>\n",
       "    <tr>\n",
       "      <th>4</th>\n",
       "      <td>850472</td>\n",
       "      <td>Стрик Элина Марселевна</td>\n",
       "      <td>Борчин Павел Робертович</td>\n",
       "      <td>Ахромеева Алина Ивановна</td>\n",
       "      <td>Ларищев Илья Александрович</td>\n",
       "      <td>4</td>\n",
       "    </tr>\n",
       "    <tr>\n",
       "      <th>5</th>\n",
       "      <td>873359</td>\n",
       "      <td>Якимихина Наталья Яновна</td>\n",
       "      <td>Улиссов Марсель Эдуардович</td>\n",
       "      <td>Джанибеков Никита Юрьевич</td>\n",
       "      <td>Старовойтов Вячеслав Павлович</td>\n",
       "      <td>4</td>\n",
       "    </tr>\n",
       "    <tr>\n",
       "      <th>6</th>\n",
       "      <td>765223</td>\n",
       "      <td>Савлук Марсель Владимирович</td>\n",
       "      <td>Атамкулова Мария Андреевна</td>\n",
       "      <td>Бабосов Михаил Константинович</td>\n",
       "      <td>Гулева Марина Витальевна</td>\n",
       "      <td>4</td>\n",
       "    </tr>\n",
       "    <tr>\n",
       "      <th>7</th>\n",
       "      <td>716489</td>\n",
       "      <td>Пантелюхина Лариса Вячеславовна</td>\n",
       "      <td>Штин Максим Русланович</td>\n",
       "      <td>Адельханова Елена Петровна</td>\n",
       "      <td>Арсенчук Руслан Денисович</td>\n",
       "      <td>4</td>\n",
       "    </tr>\n",
       "    <tr>\n",
       "      <th>8</th>\n",
       "      <td>523688</td>\n",
       "      <td>Бацких Егор Олегович</td>\n",
       "      <td>Барилов Роман Филиппович</td>\n",
       "      <td>Ботяновская Антонина Даниловна</td>\n",
       "      <td>Памфилова Тамара Даниловна</td>\n",
       "      <td>4</td>\n",
       "    </tr>\n",
       "    <tr>\n",
       "      <th>9</th>\n",
       "      <td>551592</td>\n",
       "      <td>Захарьева Ирина Денисовна</td>\n",
       "      <td>Солонченко Карина Васильевна</td>\n",
       "      <td>Выборнов Дмитрий Дмитриевич</td>\n",
       "      <td>Нугуманов Ефим Андреевич</td>\n",
       "      <td>4</td>\n",
       "    </tr>\n",
       "    <tr>\n",
       "      <th>10</th>\n",
       "      <td>613539</td>\n",
       "      <td>Гавриленко Глеб Марселевич</td>\n",
       "      <td>Ганенко Эльмира Степановна</td>\n",
       "      <td>Сахнова Тамара Васильевна</td>\n",
       "      <td>Кишенин Станислав Георгиевич</td>\n",
       "      <td>4</td>\n",
       "    </tr>\n",
       "    <tr>\n",
       "      <th>11</th>\n",
       "      <td>358194</td>\n",
       "      <td>Ноева Галина Степановна</td>\n",
       "      <td>Серпухова Алла Ярославовна</td>\n",
       "      <td>Долгих Лилия Вадимовна</td>\n",
       "      <td>Брусенцова Дарья Михаиловна</td>\n",
       "      <td>4</td>\n",
       "    </tr>\n",
       "    <tr>\n",
       "      <th>12</th>\n",
       "      <td>390312</td>\n",
       "      <td>Григорьевых Павел Леонидович</td>\n",
       "      <td>Хилин Федор Федорович</td>\n",
       "      <td>Намазова Евгения Дмитриевна</td>\n",
       "      <td>Охоцимская Виктория Евгеньевна</td>\n",
       "      <td>4</td>\n",
       "    </tr>\n",
       "    <tr>\n",
       "      <th>13</th>\n",
       "      <td>117280</td>\n",
       "      <td>Волынский Кирилл Федорович</td>\n",
       "      <td>Гайсумов Виктор Тимурович</td>\n",
       "      <td>Уточкин Евгений Анатольевич</td>\n",
       "      <td>Каганович Лилия Петровна</td>\n",
       "      <td>4</td>\n",
       "    </tr>\n",
       "    <tr>\n",
       "      <th>14</th>\n",
       "      <td>177407</td>\n",
       "      <td>Зелинский Геннадий Артурович</td>\n",
       "      <td>Зазорин Вадим Аркадьевич</td>\n",
       "      <td>Бужанинов Руслан Артурович</td>\n",
       "      <td>Сороковой Герман Маратович</td>\n",
       "      <td>4</td>\n",
       "    </tr>\n",
       "  </tbody>\n",
       "</table>\n",
       "</div>"
      ],
      "text/plain": [
       "   idEvent                        FullName1                       FullName2  \\\n",
       "0    70049          Яшина Полина Евгеньевна  Герасимовская Ксения Дамировна   \n",
       "1    92995         Журик Альберт Евгеньевич      Бадьянова Римма Максимовна   \n",
       "2   938764        Солтаганов Федор Ефимович     Хрисогонов Иван Геннадьевич   \n",
       "3   985851      Павлюкова Наталья Федоровна           Клебан Игорь Глебович   \n",
       "4   850472           Стрик Элина Марселевна         Борчин Павел Робертович   \n",
       "5   873359         Якимихина Наталья Яновна      Улиссов Марсель Эдуардович   \n",
       "6   765223      Савлук Марсель Владимирович      Атамкулова Мария Андреевна   \n",
       "7   716489  Пантелюхина Лариса Вячеславовна          Штин Максим Русланович   \n",
       "8   523688             Бацких Егор Олегович        Барилов Роман Филиппович   \n",
       "9   551592        Захарьева Ирина Денисовна    Солонченко Карина Васильевна   \n",
       "10  613539       Гавриленко Глеб Марселевич      Ганенко Эльмира Степановна   \n",
       "11  358194          Ноева Галина Степановна      Серпухова Алла Ярославовна   \n",
       "12  390312     Григорьевых Павел Леонидович           Хилин Федор Федорович   \n",
       "13  117280       Волынский Кирилл Федорович       Гайсумов Виктор Тимурович   \n",
       "14  177407     Зелинский Геннадий Артурович        Зазорин Вадим Аркадьевич   \n",
       "\n",
       "                         FullName3                       FullName4  Total  \n",
       "0        Федова Анжелика Вадимовна    Вальдовский Альберт Ефимович      4  \n",
       "1        Кучеренко Ирина Ильинична      Болтик Григорий Максимович      4  \n",
       "2        Самолов Михаил Алексеевич         Двигубская Яна Ивановна      4  \n",
       "3        Липунова Галина Ринатовна      Ноткина Альбина Михаиловна      4  \n",
       "4         Ахромеева Алина Ивановна      Ларищев Илья Александрович      4  \n",
       "5        Джанибеков Никита Юрьевич   Старовойтов Вячеслав Павлович      4  \n",
       "6    Бабосов Михаил Константинович        Гулева Марина Витальевна      4  \n",
       "7       Адельханова Елена Петровна       Арсенчук Руслан Денисович      4  \n",
       "8   Ботяновская Антонина Даниловна      Памфилова Тамара Даниловна      4  \n",
       "9      Выборнов Дмитрий Дмитриевич        Нугуманов Ефим Андреевич      4  \n",
       "10       Сахнова Тамара Васильевна    Кишенин Станислав Георгиевич      4  \n",
       "11          Долгих Лилия Вадимовна     Брусенцова Дарья Михаиловна      4  \n",
       "12     Намазова Евгения Дмитриевна  Охоцимская Виктория Евгеньевна      4  \n",
       "13     Уточкин Евгений Анатольевич        Каганович Лилия Петровна      4  \n",
       "14      Бужанинов Руслан Артурович      Сороковой Герман Маратович      4  "
      ]
     },
     "execution_count": 26,
     "metadata": {},
     "output_type": "execute_result"
    }
   ],
   "source": [
    "#Посмотрим какие события имеют более чем 2ух участника, а также ФИО таких участников\n",
    "query_string ='''\n",
    "MATCH (m:Member)-[:PARTICIPATE]->(e:Event)\n",
    "WITH e,collect(e.fullname) as fullname,count(*) as total\n",
    "WHERE total > 2\n",
    "RETURN e.idEvent, e.fullname1,e.fullname2, e.fullname3, e.fullname4, total\n",
    "ORDER BY total DESC;\n",
    "'''\n",
    "data_total_full_name = conn.query(query_string, db='graphdb')\n",
    "pd.DataFrame(data_total_full_name,columns=['idEvent', 'FullName1', 'FullName2','FullName3', 'FullName4', 'Total'])"
   ]
  },
  {
   "cell_type": "code",
   "execution_count": 27,
   "id": "164390d1-862f-4a5a-b5bf-fc8d9174bd45",
   "metadata": {},
   "outputs": [
    {
     "data": {
      "text/html": [
       "<div>\n",
       "<style scoped>\n",
       "    .dataframe tbody tr th:only-of-type {\n",
       "        vertical-align: middle;\n",
       "    }\n",
       "\n",
       "    .dataframe tbody tr th {\n",
       "        vertical-align: top;\n",
       "    }\n",
       "\n",
       "    .dataframe thead th {\n",
       "        text-align: right;\n",
       "    }\n",
       "</style>\n",
       "<table border=\"1\" class=\"dataframe\">\n",
       "  <thead>\n",
       "    <tr style=\"text-align: right;\">\n",
       "      <th></th>\n",
       "      <th>idEvent</th>\n",
       "      <th>FullName1</th>\n",
       "      <th>FullName2</th>\n",
       "      <th>FullName3</th>\n",
       "      <th>FullName4</th>\n",
       "      <th>Total</th>\n",
       "    </tr>\n",
       "  </thead>\n",
       "  <tbody>\n",
       "  </tbody>\n",
       "</table>\n",
       "</div>"
      ],
      "text/plain": [
       "Empty DataFrame\n",
       "Columns: [idEvent, FullName1, FullName2, FullName3, FullName4, Total]\n",
       "Index: []"
      ]
     },
     "execution_count": 27,
     "metadata": {},
     "output_type": "execute_result"
    }
   ],
   "source": [
    "#Посмотрим есть ли такие события, где принимало участие менее 2ух человек\n",
    "query_string ='''\n",
    "MATCH (m:Member)-[:PARTICIPATE]->(e:Event)\n",
    "WITH e,collect(e.fullname) as fullname,count(*) as total\n",
    "WHERE total < 2\n",
    "RETURN e.idEvent, e.fullname1,e.fullname2,e.fullname3,e.fullname4,total\n",
    "ORDER BY total DESC;\n",
    "'''\n",
    "data_total_full_name = conn.query(query_string, db='graphdb')\n",
    "pd.DataFrame(data_total_full_name,columns=['idEvent', 'FullName1', 'FullName2','FullName3','FullName4','Total'])"
   ]
  },
  {
   "cell_type": "markdown",
   "id": "c72a0817-820c-4655-a105-0876c1ea4f23",
   "metadata": {},
   "source": [
    "## 3.1 Промежуточные выводы:\n",
    "* С большой долей вероятности данные полные, отсутствуют ошибки,\n",
    "* Стандартное событие содержит 2 участников, которые принимали участие только в 1 событии из базы данных\n",
    "* 27 участников приняли участие более, чем в 1 событии,\n",
    "* 15 событий имеют по 4 участника.\n",
    "### На основе этой информации, мы можем предположить, что часть участников связаны с другими участниками не напрямую, а через других участников. Посмотрим, выведем граф со всеми участниками и их связями для участников кол-во событий >=2"
   ]
  },
  {
   "cell_type": "code",
   "execution_count": 28,
   "id": "0c0123cc-be36-495c-83b9-d4beb0a84482",
   "metadata": {
    "tags": []
   },
   "outputs": [
    {
     "data": {
      "application/vnd.jupyter.widget-view+json": {
       "model_id": "592b3632a62f4365ab67dfd16232585f",
       "version_major": 2,
       "version_minor": 0
      },
      "text/plain": [
       "GraphWidget(layout=Layout(height='500px', width='100%'))"
      ]
     },
     "metadata": {},
     "output_type": "display_data"
    }
   ],
   "source": [
    "#Данный запрос выводит все связанные ноды и связи для участников с количеством событий более или равном 2\n",
    "query ='''\n",
    "MATCH p = (member1:Member)-->(event:Event)<--(member2:Member)\n",
    "WHERE member1.idEvent <> member2.idEvent\n",
    "RETURN p;\n",
    "'''\n",
    "data_t=conn.query_graph(query, db='graphdb')\n",
    "w = GraphWidget(graph=data_t)\n",
    "w.set_node_color_mapping(lambda index, node: \"blue\" if node[\"properties\"][\"label\"] == \"Member\" else \"orange\")\n",
    "w.set_node_label_mapping(lambda index, node: node[\"properties\"][\"fullname\"] if node[\"properties\"][\"label\"] == \"Member\" else node[\"properties\"][\"idEvent\"])\n",
    "w.show()"
   ]
  },
  {
   "cell_type": "code",
   "execution_count": 29,
   "id": "116ec3a9",
   "metadata": {},
   "outputs": [
    {
     "data": {
      "application/vnd.jupyter.widget-view+json": {
       "model_id": "0218a4ea68c441a6b40fd714dc94fc62",
       "version_major": 2,
       "version_minor": 0
      },
      "text/plain": [
       "GraphWidget(layout=Layout(height='500px', width='100%'))"
      ]
     },
     "metadata": {},
     "output_type": "display_data"
    }
   ],
   "source": [
    "#Данный запрос выводит все события с количеством участников более 2\n",
    "query ='''\n",
    "MATCH p = (member1:Member)-->(event:Event)<--(member2:Member)\n",
    "WHERE event.fullname3 IS NOT NULL\n",
    "RETURN p;\n",
    "'''\n",
    "data_t=conn.query_graph(query, db='graphdb')\n",
    "w = GraphWidget(graph=data_t)\n",
    "w.set_node_color_mapping(lambda index, node: \"blue\" if node[\"properties\"][\"label\"] == \"Member\" else \"orange\")\n",
    "w.set_node_label_mapping(lambda index, node: node[\"properties\"][\"fullname\"] if node[\"properties\"][\"label\"] == \"Member\" else node[\"properties\"][\"idEvent\"])\n",
    "w.show()"
   ]
  },
  {
   "cell_type": "markdown",
   "id": "cd02e716",
   "metadata": {},
   "source": [
    "По данным графовым представлениям можно сделать вывод, что 15 событий являются наиболее значимыми, так как в них принимают участие не 2 участника, а 4. Так как все остальные 4970 событий содержат только 2 участников, такие события являются аномальными и на них стоит обратить особое внимание. "
   ]
  },
  {
   "cell_type": "code",
   "execution_count": 30,
   "id": "9cb5356b",
   "metadata": {},
   "outputs": [
    {
     "data": {
      "application/vnd.jupyter.widget-view+json": {
       "model_id": "b043b7f150fa403495cc8aedc12efc9d",
       "version_major": 2,
       "version_minor": 0
      },
      "text/plain": [
       "GraphWidget(layout=Layout(height='500px', width='100%'))"
      ]
     },
     "metadata": {},
     "output_type": "display_data"
    }
   ],
   "source": [
    "#Запросим информацию о конкретном человеке и событиях, где он участвовал\n",
    "query ='''\n",
    "MATCH p = (m:Member)-[:PARTICIPATE]-(e)\n",
    "WHERE m.fullname = 'Ахромеева Алина Ивановна'\n",
    "RETURN p;\n",
    "'''\n",
    "data_ahromeeva = conn.query_graph(query, db='graphdb')\n",
    "w = GraphWidget(graph=data_ahromeeva)\n",
    "w.set_node_color_mapping(lambda index, node: \"blue\" if node[\"properties\"][\"label\"] == \"Member\" else \"orange\")\n",
    "w.set_node_label_mapping(lambda index, node: node[\"properties\"][\"fullname\"] if node[\"properties\"][\"label\"] == \"Member\" else node[\"properties\"][\"idEvent\"])\n",
    "w.show()"
   ]
  },
  {
   "cell_type": "code",
   "execution_count": 31,
   "id": "a28b9b4f-4bdd-4ce5-8b5d-945d2a62e16a",
   "metadata": {
    "tags": []
   },
   "outputs": [
    {
     "data": {
      "application/vnd.jupyter.widget-view+json": {
       "model_id": "a1e8521a88b7472e9e46484cdbbc94f0",
       "version_major": 2,
       "version_minor": 0
      },
      "text/plain": [
       "GraphWidget(layout=Layout(height='500px', width='100%'))"
      ]
     },
     "metadata": {},
     "output_type": "display_data"
    }
   ],
   "source": [
    "#Запросим информацию о конкретном человеке, событиях, где он участвовал, а также участников этих событий\n",
    "query ='''\n",
    "MATCH p = (m:Member)-[*]-(e)\n",
    "WHERE m.fullname = 'Ахромеева Алина Ивановна'\n",
    "RETURN p;\n",
    "'''\n",
    "data_ahromeeva = conn.query_graph(query, db='graphdb')\n",
    "w = GraphWidget(graph=data_ahromeeva)\n",
    "w.set_node_color_mapping(lambda index, node: \"blue\" if node[\"properties\"][\"label\"] == \"Member\" else \"orange\")\n",
    "w.set_node_label_mapping(lambda index, node: node[\"properties\"][\"fullname\"] if node[\"properties\"][\"label\"] == \"Member\" else node[\"properties\"][\"idEvent\"])\n",
    "w.show()"
   ]
  },
  {
   "cell_type": "markdown",
   "id": "889dd88a-dd07-4227-a230-48635a7166ab",
   "metadata": {},
   "source": [
    "По данному графу, можно сделать вывод, что участник Ахромеева Алина Ивановна является центральным участником, через нее можно перейти к любому другому частнику графа. Можно предположить, что участник Ахромеева Алина Ивановна играет роль не просто участник событий, а в зависимости от типа событий организатор, мошенник, разносчик вируса и т.д."
   ]
  },
  {
   "cell_type": "code",
   "execution_count": 33,
   "id": "d46b3d01",
   "metadata": {},
   "outputs": [
    {
     "data": {
      "application/vnd.jupyter.widget-view+json": {
       "model_id": "b0c3fe4b19744784926fde54c88f78fe",
       "version_major": 2,
       "version_minor": 0
      },
      "text/plain": [
       "GraphWidget(layout=Layout(height='500px', width='100%'))"
      ]
     },
     "metadata": {},
     "output_type": "display_data"
    }
   ],
   "source": [
    "#Запросим информацию о конкретном человеке, событиях, где он участвовал, а также участников этих событий\n",
    "query ='''\n",
    "MATCH p = (m:Member)-[*]-(e)\n",
    "WHERE m.fullname = 'Башнина Антонина Глебовна'\n",
    "RETURN p;\n",
    "'''\n",
    "data_ahromeeva = conn.query_graph(query, db='graphdb')\n",
    "w = GraphWidget(graph=data_ahromeeva)\n",
    "w.set_node_color_mapping(lambda index, node: \"blue\" if node[\"properties\"][\"label\"] == \"Member\" else \"orange\")\n",
    "w.set_node_label_mapping(lambda index, node: node[\"properties\"][\"fullname\"] if node[\"properties\"][\"label\"] == \"Member\" else node[\"properties\"][\"idEvent\"])\n",
    "w.show()"
   ]
  },
  {
   "cell_type": "markdown",
   "id": "a83aca0b",
   "metadata": {},
   "source": [
    "По данному графу, можно сделать вывод, что участник Башнина Антонина Глебовна является центральным участником, через нее можно перейти к любому другому частнику графа. Можно предположить, что участник Башнина Антонина Глебовна играет роль не просто участник событий, а в зависимости от типа событий организатор, мошеник, разнощик вируса и т.д."
   ]
  },
  {
   "cell_type": "code",
   "execution_count": 34,
   "id": "aecdcb5d",
   "metadata": {},
   "outputs": [
    {
     "data": {
      "application/vnd.jupyter.widget-view+json": {
       "model_id": "83c84eab51964f9eb68c29e4366aae9d",
       "version_major": 2,
       "version_minor": 0
      },
      "text/plain": [
       "GraphWidget(layout=Layout(height='500px', width='100%'))"
      ]
     },
     "metadata": {},
     "output_type": "display_data"
    }
   ],
   "source": [
    "#Запросим информацию о конкретном человеке, событиях, где он участвовал, а также участников этих событий\n",
    "query ='''\n",
    "MATCH p = (m:Member)-[*]-(e)\n",
    "WHERE m.fullname = 'Медведева Дарья Алексеевна'\n",
    "RETURN p;\n",
    "'''\n",
    "data_ahromeeva = conn.query_graph(query, db='graphdb')\n",
    "w = GraphWidget(graph=data_ahromeeva)\n",
    "w.set_node_color_mapping(lambda index, node: \"blue\" if node[\"properties\"][\"label\"] == \"Member\" else \"orange\")\n",
    "w.set_node_label_mapping(lambda index, node: node[\"properties\"][\"fullname\"] if node[\"properties\"][\"label\"] == \"Member\" else node[\"properties\"][\"idEvent\"])\n",
    "w.show()"
   ]
  },
  {
   "cell_type": "markdown",
   "id": "0cc0ac2e",
   "metadata": {},
   "source": [
    "По данному графу, можно сделать вывод, что участник Медведева Дарья Алексеевна является центральным участником, через нее можно перейти к любому другому частнику графа. Можно предположить, что участник Медведева Дарья Алексеевна играет роль не просто участник событий, а в зависимости от типа событий организатор, мошеник, разнощик вируса и т.д."
   ]
  },
  {
   "cell_type": "code",
   "execution_count": 35,
   "id": "a0aab382-59b0-4808-a6c4-bdbdbd199073",
   "metadata": {
    "scrolled": false
   },
   "outputs": [
    {
     "data": {
      "application/vnd.jupyter.widget-view+json": {
       "model_id": "b79e7934be3640818890d11f0021ecf1",
       "version_major": 2,
       "version_minor": 0
      },
      "text/plain": [
       "GraphWidget(layout=Layout(height='500px', width='100%'))"
      ]
     },
     "metadata": {},
     "output_type": "display_data"
    }
   ],
   "source": [
    "#Запросим информацию о конкретном человеке, событиях, где он участвовал, а также участников этих событий\n",
    "query ='''\n",
    "MATCH p = (m:Member)-[*]-(e)\n",
    "WHERE m.fullname = 'Двигубская Валентина Геннадьевна'\n",
    "RETURN p;\n",
    "'''\n",
    "data_ahromeeva = conn.query_graph(query, db='graphdb')\n",
    "w = GraphWidget(graph=data_ahromeeva)\n",
    "w.set_node_color_mapping(lambda index, node: \"blue\" if node[\"properties\"][\"label\"] == \"Member\" else \"orange\")\n",
    "w.set_node_label_mapping(lambda index, node: node[\"properties\"][\"fullname\"] if node[\"properties\"][\"label\"] == \"Member\" else node[\"properties\"][\"idEvent\"])\n",
    "w.show()"
   ]
  },
  {
   "cell_type": "markdown",
   "id": "5102d22d",
   "metadata": {},
   "source": [
    "По данному графу можно сделать вывод, что есть 3 наиболее значимых участника - Двигубская Валентина Геннадьевна, Шолохов Игорь Робертович и Пафомова Кира Вадимовна. Данные лица, участвовали более чем в 2ух событиях и с помощью них осуществилась связь частей графа. Также, можно предположить наличие 3ех сообществ."
   ]
  },
  {
   "cell_type": "code",
   "execution_count": 36,
   "id": "8d658be9",
   "metadata": {},
   "outputs": [
    {
     "data": {
      "application/vnd.jupyter.widget-view+json": {
       "model_id": "7fe5c8a56b11414db1387fdac7520e21",
       "version_major": 2,
       "version_minor": 0
      },
      "text/plain": [
       "GraphWidget(layout=Layout(height='500px', width='100%'))"
      ]
     },
     "metadata": {},
     "output_type": "display_data"
    }
   ],
   "source": [
    "#Запросим информацию о конкретном человеке, событиях, где он участвовал, а также участников этих событий\n",
    "query ='''\n",
    "MATCH p = (m:Member)-[*]-(e)\n",
    "WHERE m.fullname = 'Зимнухова Карина Даниловна'\n",
    "RETURN p;\n",
    "'''\n",
    "data_ahromeeva = conn.query_graph(query, db='graphdb')\n",
    "w = GraphWidget(graph=data_ahromeeva)\n",
    "w.set_node_color_mapping(lambda index, node: \"blue\" if node[\"properties\"][\"label\"] == \"Member\" else \"orange\")\n",
    "w.set_node_label_mapping(lambda index, node: node[\"properties\"][\"fullname\"] if node[\"properties\"][\"label\"] == \"Member\" else node[\"properties\"][\"idEvent\"])\n",
    "w.show()"
   ]
  },
  {
   "cell_type": "markdown",
   "id": "ae6d9107",
   "metadata": {},
   "source": [
    "По данному графу можно сделать вывод, что есть 2 наиболее значимых участника - Диомидов Игорь Ильдарович, Зимнухова Карина Даниловна. Данные лица, участвовали более в 5 событиях и с помощью них осуществилась связь частей графа."
   ]
  },
  {
   "cell_type": "code",
   "execution_count": 38,
   "id": "154bd510-6e36-47b9-ab1c-d7f894d56b42",
   "metadata": {},
   "outputs": [
    {
     "data": {
      "application/vnd.jupyter.widget-view+json": {
       "model_id": "6d31bb7a8df243179e76e9b5d9e53382",
       "version_major": 2,
       "version_minor": 0
      },
      "text/plain": [
       "GraphWidget(layout=Layout(height='500px', width='100%'))"
      ]
     },
     "metadata": {},
     "output_type": "display_data"
    }
   ],
   "source": [
    "#Запросим информацию о конкретном человеке, событиях, где он участвовал, а также участников этих событий\n",
    "query ='''\n",
    "MATCH p = (m:Member)-[*]-(e)\n",
    "WHERE m.fullname = 'Яцкой Роберт Ильдарович'\n",
    "RETURN p;\n",
    "'''\n",
    "data_ahromeeva = conn.query_graph(query, db='graphdb')\n",
    "w = GraphWidget(graph=data_ahromeeva)\n",
    "w.set_node_color_mapping(lambda index, node: \"blue\" if node[\"properties\"][\"label\"] == \"Member\" else \"orange\")\n",
    "w.set_node_label_mapping(lambda index, node: node[\"properties\"][\"fullname\"] if node[\"properties\"][\"label\"] == \"Member\" else node[\"properties\"][\"idEvent\"])\n",
    "w.show()"
   ]
  },
  {
   "cell_type": "markdown",
   "id": "de9a1538",
   "metadata": {},
   "source": [
    "По данному графу можно предположить, что участники являются частью сообшества, или если это транзакции, то такие схемы могут использоваться для отмывания денег, но скорее присуще компаниям, нежели физическим лицам."
   ]
  },
  {
   "cell_type": "code",
   "execution_count": 33,
   "id": "c9b27beb-8e3a-4a72-9506-6b0209ba73eb",
   "metadata": {
    "tags": []
   },
   "outputs": [
    {
     "data": {
      "text/plain": [
       "[<Record numberOfRows=5060>]"
      ]
     },
     "execution_count": 33,
     "metadata": {},
     "output_type": "execute_result"
    }
   ],
   "source": [
    "query_string ='''\n",
    "MATCH (m:Member)-[:PARTICIPATE]->(:Event)<-[:PARTICIPATE]-(m2)\n",
    "WHERE id(m) < id(m2)\n",
    "WITH m,m2, count(*) AS common\n",
    "RETURN count(*) AS numberOfRows;\n",
    "'''\n",
    "conn.query(query_string, db='graphdb')"
   ]
  },
  {
   "cell_type": "code",
   "execution_count": 63,
   "id": "9311b4ed-ca0f-4fbe-914f-4fbee8060e4c",
   "metadata": {},
   "outputs": [
    {
     "data": {
      "text/plain": [
       "'[{\"Member1\": \"Башнина Антонина Глебовна\", \"Member2\": \"Купоров Григорий Станиславович\", \"idEvent\": \"292757\"}, {\"Member1\": \"Башнина Антонина Глебовна\", \"Member2\": \"Казак Николай Русланович\", \"idEvent\": \"918855\"}, {\"Member1\": \"Башнина Антонина Глебовна\", \"Member2\": \"Павлючиков Максим Филиппович\", \"idEvent\": \"66267\"}, {\"Member1\": \"Башнина Антонина Глебовна\", \"Member2\": \"Аргентовская Евгения Евгеньевна\", \"idEvent\": \"224711\"}, {\"Member1\": \"Башнина Антонина Глебовна\", \"Member2\": \"Фефилов Дмитрий Янович\", \"idEvent\": \"563736\"}, {\"Member1\": \"Башнина Антонина Глебовна\", \"Member2\": \"Алябышева Диана Ярославовна\", \"idEvent\": \"495988\"}, {\"Member1\": \"Башнина Антонина Глебовна\", \"Member2\": \"Акрамова Людмила Альбертовна\", \"idEvent\": \"484562\"}, {\"Member1\": \"Башнина Антонина Глебовна\", \"Member2\": \"Головушина Алла Филипповна\", \"idEvent\": \"385035\"}, {\"Member1\": \"Башнина Антонина Глебовна\", \"Member2\": \"Габов Борис Марселевич\", \"idEvent\": \"379611\"}, {\"Member1\": \"Башнина Антонина Глебовна\", \"Member2\": \"Сергулин Егор Глебович\", \"idEvent\": \"208421\"}, {\"Member1\": \"Башнина Антонина Глебовна\", \"Member2\": \"Сусайкин Владимир Ярославович\", \"idEvent\": \"370508\"}, {\"Member1\": \"Башнина Антонина Глебовна\", \"Member2\": \"Недоквасов Владислав Константинович\", \"idEvent\": \"858935\"}, {\"Member1\": \"Башнина Антонина Глебовна\", \"Member2\": \"Жандарев Виктор Глебович\", \"idEvent\": \"663659\"}, {\"Member1\": \"Башнина Антонина Глебовна\", \"Member2\": \"Челомбитько Тимофей Антонович\", \"idEvent\": \"522249\"}]'"
      ]
     },
     "execution_count": 63,
     "metadata": {},
     "output_type": "execute_result"
    }
   ],
   "source": [
    "#Выведем в формате json информацию о конкретном участники событий:событие, участник1, участник 2\n",
    "query ='''\n",
    "MATCH (member1:Member{fullname:'Башнина Антонина Глебовна'})-->(event:Event)<--(member2:Member)\n",
    "RETURN member1.fullname AS Member1, member2.fullname AS Member2, event.idEvent AS idEvent;\n",
    "'''\n",
    "data_s=conn.query_json(query, db='graphdb')\n",
    "data_s"
   ]
  },
  {
   "cell_type": "code",
   "execution_count": 14,
   "id": "2b13d53a-502d-4758-a123-dddd1dc35c52",
   "metadata": {},
   "outputs": [
    {
     "data": {
      "text/plain": [
       "'[{\"Member1\": \"Башнина Антонина Глебовна\", \"Member2\": \"Купоров Григорий Станиславович\", \"idEvent\": \"292757\"}, {\"Member1\": \"Башнина Антонина Глебовна\", \"Member2\": \"Казак Николай Русланович\", \"idEvent\": \"918855\"}, {\"Member1\": \"Башнина Антонина Глебовна\", \"Member2\": \"Павлючиков Максим Филиппович\", \"idEvent\": \"66267\"}, {\"Member1\": \"Башнина Антонина Глебовна\", \"Member2\": \"Аргентовская Евгения Евгеньевна\", \"idEvent\": \"224711\"}, {\"Member1\": \"Башнина Антонина Глебовна\", \"Member2\": \"Фефилов Дмитрий Янович\", \"idEvent\": \"563736\"}, {\"Member1\": \"Башнина Антонина Глебовна\", \"Member2\": \"Алябышева Диана Ярославовна\", \"idEvent\": \"495988\"}, {\"Member1\": \"Башнина Антонина Глебовна\", \"Member2\": \"Акрамова Людмила Альбертовна\", \"idEvent\": \"484562\"}, {\"Member1\": \"Башнина Антонина Глебовна\", \"Member2\": \"Головушина Алла Филипповна\", \"idEvent\": \"385035\"}, {\"Member1\": \"Башнина Антонина Глебовна\", \"Member2\": \"Габов Борис Марселевич\", \"idEvent\": \"379611\"}, {\"Member1\": \"Башнина Антонина Глебовна\", \"Member2\": \"Сергулин Егор Глебович\", \"idEvent\": \"208421\"}, {\"Member1\": \"Башнина Антонина Глебовна\", \"Member2\": \"Сусайкин Владимир Ярославович\", \"idEvent\": \"370508\"}, {\"Member1\": \"Башнина Антонина Глебовна\", \"Member2\": \"Недоквасов Владислав Константинович\", \"idEvent\": \"858935\"}, {\"Member1\": \"Башнина Антонина Глебовна\", \"Member2\": \"Жандарев Виктор Глебович\", \"idEvent\": \"663659\"}, {\"Member1\": \"Башнина Антонина Глебовна\", \"Member2\": \"Челомбитько Тимофей Антонович\", \"idEvent\": \"522249\"}]'"
      ]
     },
     "execution_count": 14,
     "metadata": {},
     "output_type": "execute_result"
    }
   ],
   "source": [
    "query ='''\n",
    "MATCH (member1:Member)-->(event:Event)<--(member2:Member)\n",
    "WHERE ID(member1) = 341\n",
    "RETURN member1.fullname AS Member1, member2.fullname AS Member2, event.idEvent AS idEvent;\n",
    "'''\n",
    "data_s=conn.query_json(query, db='graphdb')\n",
    "data_s"
   ]
  },
  {
   "cell_type": "code",
   "execution_count": 48,
   "id": "0b9cbdf9",
   "metadata": {},
   "outputs": [
    {
     "data": {
      "text/plain": [
       "'[{\"Member\": \"Башнина Антонина Глебовна\", \"idEvent\": [\"292757\", \"918855\", \"66267\", \"224711\", \"563736\", \"495988\", \"484562\", \"385035\", \"379611\", \"208421\", \"370508\", \"858935\", \"663659\", \"522249\"], \"total\": 14}]'"
      ]
     },
     "execution_count": 48,
     "metadata": {},
     "output_type": "execute_result"
    }
   ],
   "source": [
    "#Выведем в формате json информацию о конкретном участники событий:участник, события, кол-во\n",
    "query ='''\n",
    "MATCH (member:Member{fullname:'Башнина Антонина Глебовна'})-[:PARTICIPATE]->(event:Event)\n",
    "WITH member,collect(event.idEvent) as idEvent,count(*) as total\n",
    "RETURN member.fullname AS Member, idEvent, total;\n",
    "'''\n",
    "data_s=conn.query_json(query, db='graphdb')\n",
    "data_s"
   ]
  },
  {
   "cell_type": "code",
   "execution_count": 64,
   "id": "b0685da6-9851-4915-b08a-d4b891a3d53d",
   "metadata": {},
   "outputs": [
    {
     "data": {
      "text/plain": [
       "'[{\"Member\": \"Башнина Антонина Глебовна\", \"idEvent\": [\"292757\", \"918855\", \"66267\", \"224711\", \"563736\", \"495988\", \"484562\", \"385035\", \"379611\", \"208421\", \"370508\", \"858935\", \"663659\", \"522249\"], \"total\": 14}]'"
      ]
     },
     "execution_count": 64,
     "metadata": {},
     "output_type": "execute_result"
    }
   ],
   "source": [
    "\n",
    "query ='''\n",
    "MATCH (member:Member{fullname:$name})-[:PARTICIPATE]->(event:Event)\n",
    "WITH member,collect(event.idEvent) as idEvent,count(*) as total\n",
    "RETURN member.fullname AS Member, idEvent, total;\n",
    "'''\n",
    "parametrs = {\"name\":\"Башнина Антонина Глебовна\"}\n",
    "data_s=conn.query_json_id(query, parametrs, db='graphdb')\n",
    "data_s"
   ]
  },
  {
   "cell_type": "markdown",
   "id": "0693e639-578a-4563-b9ef-5084c70c8caf",
   "metadata": {},
   "source": [
    "# 4 Analysys with GDS"
   ]
  },
  {
   "cell_type": "code",
   "execution_count": 40,
   "id": "1184675f",
   "metadata": {},
   "outputs": [
    {
     "data": {
      "text/plain": [
       "[]"
      ]
     },
     "execution_count": 40,
     "metadata": {},
     "output_type": "execute_result"
    }
   ],
   "source": [
    "#Создаем пустую базу данных\n",
    "conn.query(\"CREATE OR REPLACE DATABASE graphdb\")"
   ]
  },
  {
   "cell_type": "code",
   "execution_count": 41,
   "id": "2bd12b84",
   "metadata": {},
   "outputs": [
    {
     "data": {
      "text/plain": [
       "[]"
      ]
     },
     "execution_count": 41,
     "metadata": {},
     "output_type": "execute_result"
    }
   ],
   "source": [
    "#Создаем ноды и свойства участник события, используя информацию из файла data_test.csv\n",
    "query_string = '''\n",
    "LOAD CSV WITH HEADERS FROM\n",
    "'https://raw.githubusercontent.com/KaterinaChel/grath-DB/main/data_test.csv'\n",
    "AS line FIELDTERMINATOR ';'\n",
    "MERGE (member:Member {fullname: line.FullName1})\n",
    "  ON CREATE SET member.idEvent = line.idEvent\n",
    "  on MATCH SET member.idEvent = apoc.convert.toSet(member.idEvent + [line.idEvent]) \n",
    "MERGE (member2:Member {fullname: line.FullName2})\n",
    "  ON CREATE SET member2.idEvent = line.idEvent\n",
    "  on MATCH SET member2.idEvent = apoc.convert.toSet(member2.idEvent + [line.idEvent]);\n",
    "  \n",
    "'''\n",
    "conn.query(query_string, db='graphdb')"
   ]
  },
  {
   "cell_type": "code",
   "execution_count": 42,
   "id": "d5f008f0",
   "metadata": {},
   "outputs": [
    {
     "data": {
      "text/plain": [
       "[]"
      ]
     },
     "execution_count": 42,
     "metadata": {},
     "output_type": "execute_result"
    }
   ],
   "source": [
    "#Создаем отношения участник события -[участвовал]->участик события\n",
    "query_string ='''\n",
    "LOAD CSV WITH HEADERS FROM 'https://raw.githubusercontent.com/KaterinaChel/grath-DB/main/data_test.csv?token=GHSAT0AAAAAAB6WRB4BI7D3HNOJHAKWIKUQZAMF4NA' AS line FIELDTERMINATOR ';'\n",
    "MATCH (member1:Member {fullname: line.FullName1})\n",
    "MATCH (member2:Member {fullname: line.FullName2})\n",
    "CREATE (member1)-[:PARTICIPATE]->(member2)\n",
    "CREATE (member2)-[:PARTICIPATE]->(member1);\n",
    "'''\n",
    "conn.query(query_string, db='graphdb')"
   ]
  },
  {
   "cell_type": "code",
   "execution_count": 43,
   "id": "ce7aa0e2-c461-4f07-85a0-5fc02fcc0e40",
   "metadata": {},
   "outputs": [],
   "source": [
    "gds = GraphDataScience(uri_my, auth=(user_my, password_my), database=\"graphdb\")"
   ]
  },
  {
   "cell_type": "code",
   "execution_count": 44,
   "id": "b8461ee7-5643-425c-9397-8ab77c8f9b6e",
   "metadata": {},
   "outputs": [
    {
     "data": {
      "text/html": [
       "<div>\n",
       "<style scoped>\n",
       "    .dataframe tbody tr th:only-of-type {\n",
       "        vertical-align: middle;\n",
       "    }\n",
       "\n",
       "    .dataframe tbody tr th {\n",
       "        vertical-align: top;\n",
       "    }\n",
       "\n",
       "    .dataframe thead th {\n",
       "        text-align: right;\n",
       "    }\n",
       "</style>\n",
       "<table border=\"1\" class=\"dataframe\">\n",
       "  <thead>\n",
       "    <tr style=\"text-align: right;\">\n",
       "      <th></th>\n",
       "      <th>labels</th>\n",
       "      <th>nodeCount</th>\n",
       "    </tr>\n",
       "  </thead>\n",
       "  <tbody>\n",
       "    <tr>\n",
       "      <th>0</th>\n",
       "      <td>[Member]</td>\n",
       "      <td>9899</td>\n",
       "    </tr>\n",
       "  </tbody>\n",
       "</table>\n",
       "</div>"
      ],
      "text/plain": [
       "     labels  nodeCount\n",
       "0  [Member]       9899"
      ]
     },
     "execution_count": 44,
     "metadata": {},
     "output_type": "execute_result"
    }
   ],
   "source": [
    "gds.run_cypher(\"MATCH (n) return labels(n) as labels, count(*) as nodeCount\")"
   ]
  },
  {
   "cell_type": "markdown",
   "id": "4e4da986",
   "metadata": {},
   "source": [
    "Создадим проекцию графа. Проекции графов полностью хранятся в памяти с использованием сжатых структур данных, оптимизированных для топологии и поиска свойств."
   ]
  },
  {
   "cell_type": "code",
   "execution_count": 72,
   "id": "b8297ea5-5d67-4a15-b6dd-f31952033280",
   "metadata": {
    "jupyter": {
     "outputs_hidden": true
    },
    "tags": []
   },
   "outputs": [
    {
     "data": {
      "text/plain": [
       "nodeProjection            {'Member': {'label': 'Member', 'properties': {}}}\n",
       "relationshipProjection    {'PARTICIPATE': {'orientation': 'NATURAL', 'in...\n",
       "graphName                                                            relait\n",
       "nodeCount                                                              9899\n",
       "relationshipCount                                                     10000\n",
       "projectMillis                                                            19\n",
       "Name: 0, dtype: object"
      ]
     },
     "execution_count": 72,
     "metadata": {},
     "output_type": "execute_result"
    }
   ],
   "source": [
    "Member_relait, result = gds.graph.project(\"relait\", \"Member\", \"PARTICIPATE\")\n",
    "result"
   ]
  },
  {
   "cell_type": "code",
   "execution_count": 73,
   "id": "96cff029-f309-4bef-a0e1-dc2e0e21a575",
   "metadata": {
    "tags": []
   },
   "outputs": [
    {
     "data": {
      "text/plain": [
       "componentCount                                                        4903\n",
       "componentDistribution    {'p99': 2, 'min': 2, 'max': 51, 'mean': 2.0189...\n",
       "postProcessingMillis                                                     4\n",
       "preProcessingMillis                                                      0\n",
       "computeMillis                                                            8\n",
       "configuration            {'jobId': '09719b09-6d0d-4907-8609-6e0238fbfac...\n",
       "Name: 0, dtype: object"
      ]
     },
     "execution_count": 73,
     "metadata": {},
     "output_type": "execute_result"
    }
   ],
   "source": [
    "wcc_memb = gds.wcc.stats(Member_relait)\n",
    "wcc_memb"
   ]
  },
  {
   "cell_type": "code",
   "execution_count": 74,
   "id": "3948d85d-20f3-43d2-9c16-0bdf6240f7bb",
   "metadata": {},
   "outputs": [
    {
     "data": {
      "text/plain": [
       "{'p99': 2,\n",
       " 'min': 2,\n",
       " 'max': 51,\n",
       " 'mean': 2.018967978788497,\n",
       " 'p90': 2,\n",
       " 'p50': 2,\n",
       " 'p999': 7,\n",
       " 'p95': 2,\n",
       " 'p75': 2}"
      ]
     },
     "execution_count": 74,
     "metadata": {},
     "output_type": "execute_result"
    }
   ],
   "source": [
    "wcc_memb['componentDistribution']"
   ]
  },
  {
   "cell_type": "markdown",
   "id": "8e79dec7",
   "metadata": {},
   "source": [
    "Статистически подтвердили, что среднее кол-во участников событий близко к 2. Посмотрели максиммальное, минимальное и рандомные значения"
   ]
  },
  {
   "cell_type": "code",
   "execution_count": 75,
   "id": "7535d5f5-4355-4bc8-aed8-48b4a0f9f078",
   "metadata": {},
   "outputs": [
    {
     "data": {
      "text/html": [
       "<div>\n",
       "<style scoped>\n",
       "    .dataframe tbody tr th:only-of-type {\n",
       "        vertical-align: middle;\n",
       "    }\n",
       "\n",
       "    .dataframe tbody tr th {\n",
       "        vertical-align: top;\n",
       "    }\n",
       "\n",
       "    .dataframe thead th {\n",
       "        text-align: right;\n",
       "    }\n",
       "</style>\n",
       "<table border=\"1\" class=\"dataframe\">\n",
       "  <thead>\n",
       "    <tr style=\"text-align: right;\">\n",
       "      <th></th>\n",
       "      <th>degreeDistribution</th>\n",
       "      <th>graphName</th>\n",
       "      <th>database</th>\n",
       "      <th>memoryUsage</th>\n",
       "      <th>sizeInBytes</th>\n",
       "      <th>nodeCount</th>\n",
       "      <th>relationshipCount</th>\n",
       "      <th>configuration</th>\n",
       "      <th>density</th>\n",
       "      <th>creationTime</th>\n",
       "      <th>modificationTime</th>\n",
       "      <th>schema</th>\n",
       "      <th>schemaWithOrientation</th>\n",
       "    </tr>\n",
       "  </thead>\n",
       "  <tbody>\n",
       "    <tr>\n",
       "      <th>0</th>\n",
       "      <td>{'p99': 1, 'min': 1, 'max': 50, 'mean': 1.0102...</td>\n",
       "      <td>myGraph</td>\n",
       "      <td>graphdb</td>\n",
       "      <td>2862 KiB</td>\n",
       "      <td>2931320</td>\n",
       "      <td>9899</td>\n",
       "      <td>10000</td>\n",
       "      <td>{'relationshipProjection': {'PARTICIPATE': {'o...</td>\n",
       "      <td>0.000102</td>\n",
       "      <td>2023-04-05T10:59:00.101376700+03:00</td>\n",
       "      <td>2023-04-05T10:59:00.112203100+03:00</td>\n",
       "      <td>{'graphProperties': {}, 'relationships': {'PAR...</td>\n",
       "      <td>{'graphProperties': {}, 'relationships': {'PAR...</td>\n",
       "    </tr>\n",
       "    <tr>\n",
       "      <th>1</th>\n",
       "      <td>{'p99': 1, 'min': 1, 'max': 50, 'mean': 1.0102...</td>\n",
       "      <td>relait</td>\n",
       "      <td>graphdb</td>\n",
       "      <td>2862 KiB</td>\n",
       "      <td>2931320</td>\n",
       "      <td>9899</td>\n",
       "      <td>10000</td>\n",
       "      <td>{'relationshipProjection': {'PARTICIPATE': {'o...</td>\n",
       "      <td>0.000102</td>\n",
       "      <td>2023-04-05T11:11:32.244163400+03:00</td>\n",
       "      <td>2023-04-05T11:11:32.255993000+03:00</td>\n",
       "      <td>{'graphProperties': {}, 'relationships': {'PAR...</td>\n",
       "      <td>{'graphProperties': {}, 'relationships': {'PAR...</td>\n",
       "    </tr>\n",
       "  </tbody>\n",
       "</table>\n",
       "</div>"
      ],
      "text/plain": [
       "                                  degreeDistribution graphName database  \\\n",
       "0  {'p99': 1, 'min': 1, 'max': 50, 'mean': 1.0102...   myGraph  graphdb   \n",
       "1  {'p99': 1, 'min': 1, 'max': 50, 'mean': 1.0102...    relait  graphdb   \n",
       "\n",
       "  memoryUsage  sizeInBytes  nodeCount  relationshipCount  \\\n",
       "0    2862 KiB      2931320       9899              10000   \n",
       "1    2862 KiB      2931320       9899              10000   \n",
       "\n",
       "                                       configuration   density  \\\n",
       "0  {'relationshipProjection': {'PARTICIPATE': {'o...  0.000102   \n",
       "1  {'relationshipProjection': {'PARTICIPATE': {'o...  0.000102   \n",
       "\n",
       "                          creationTime                     modificationTime  \\\n",
       "0  2023-04-05T10:59:00.101376700+03:00  2023-04-05T10:59:00.112203100+03:00   \n",
       "1  2023-04-05T11:11:32.244163400+03:00  2023-04-05T11:11:32.255993000+03:00   \n",
       "\n",
       "                                              schema  \\\n",
       "0  {'graphProperties': {}, 'relationships': {'PAR...   \n",
       "1  {'graphProperties': {}, 'relationships': {'PAR...   \n",
       "\n",
       "                               schemaWithOrientation  \n",
       "0  {'graphProperties': {}, 'relationships': {'PAR...  \n",
       "1  {'graphProperties': {}, 'relationships': {'PAR...  "
      ]
     },
     "execution_count": 75,
     "metadata": {},
     "output_type": "execute_result"
    }
   ],
   "source": [
    "gds.graph.list()"
   ]
  },
  {
   "cell_type": "code",
   "execution_count": 76,
   "id": "67d05b0b",
   "metadata": {},
   "outputs": [],
   "source": [
    "pagerank_df_member = gds.pageRank.stream(Member_relait)"
   ]
  },
  {
   "cell_type": "code",
   "execution_count": 83,
   "id": "01dcecd9",
   "metadata": {},
   "outputs": [
    {
     "data": {
      "text/plain": [
       "nodeId    9898.000000\n",
       "score       22.602141\n",
       "dtype: float64"
      ]
     },
     "execution_count": 83,
     "metadata": {},
     "output_type": "execute_result"
    }
   ],
   "source": [
    "pagerank_df_member.max()"
   ]
  },
  {
   "cell_type": "code",
   "execution_count": 103,
   "id": "3f8a90a4",
   "metadata": {},
   "outputs": [
    {
     "data": {
      "text/html": [
       "<div>\n",
       "<style scoped>\n",
       "    .dataframe tbody tr th:only-of-type {\n",
       "        vertical-align: middle;\n",
       "    }\n",
       "\n",
       "    .dataframe tbody tr th {\n",
       "        vertical-align: top;\n",
       "    }\n",
       "\n",
       "    .dataframe thead th {\n",
       "        text-align: right;\n",
       "    }\n",
       "</style>\n",
       "<table border=\"1\" class=\"dataframe\">\n",
       "  <thead>\n",
       "    <tr style=\"text-align: right;\">\n",
       "      <th></th>\n",
       "      <th>nodeId</th>\n",
       "      <th>score</th>\n",
       "    </tr>\n",
       "  </thead>\n",
       "  <tbody>\n",
       "    <tr>\n",
       "      <th>221</th>\n",
       "      <td>221</td>\n",
       "      <td>22.602141</td>\n",
       "    </tr>\n",
       "    <tr>\n",
       "      <th>341</th>\n",
       "      <td>341</td>\n",
       "      <td>6.702704</td>\n",
       "    </tr>\n",
       "    <tr>\n",
       "      <th>873</th>\n",
       "      <td>873</td>\n",
       "      <td>3.169496</td>\n",
       "    </tr>\n",
       "    <tr>\n",
       "      <th>661</th>\n",
       "      <td>661</td>\n",
       "      <td>2.496732</td>\n",
       "    </tr>\n",
       "    <tr>\n",
       "      <th>1794</th>\n",
       "      <td>1794</td>\n",
       "      <td>2.496732</td>\n",
       "    </tr>\n",
       "    <tr>\n",
       "      <th>...</th>\n",
       "      <td>...</td>\n",
       "      <td>...</td>\n",
       "    </tr>\n",
       "    <tr>\n",
       "      <th>9202</th>\n",
       "      <td>9202</td>\n",
       "      <td>0.528422</td>\n",
       "    </tr>\n",
       "    <tr>\n",
       "      <th>8066</th>\n",
       "      <td>8066</td>\n",
       "      <td>0.528422</td>\n",
       "    </tr>\n",
       "    <tr>\n",
       "      <th>7993</th>\n",
       "      <td>7993</td>\n",
       "      <td>0.528422</td>\n",
       "    </tr>\n",
       "    <tr>\n",
       "      <th>8790</th>\n",
       "      <td>8790</td>\n",
       "      <td>0.528422</td>\n",
       "    </tr>\n",
       "    <tr>\n",
       "      <th>9160</th>\n",
       "      <td>9160</td>\n",
       "      <td>0.528422</td>\n",
       "    </tr>\n",
       "  </tbody>\n",
       "</table>\n",
       "<p>9899 rows × 2 columns</p>\n",
       "</div>"
      ],
      "text/plain": [
       "      nodeId      score\n",
       "221      221  22.602141\n",
       "341      341   6.702704\n",
       "873      873   3.169496\n",
       "661      661   2.496732\n",
       "1794    1794   2.496732\n",
       "...      ...        ...\n",
       "9202    9202   0.528422\n",
       "8066    8066   0.528422\n",
       "7993    7993   0.528422\n",
       "8790    8790   0.528422\n",
       "9160    9160   0.528422\n",
       "\n",
       "[9899 rows x 2 columns]"
      ]
     },
     "execution_count": 103,
     "metadata": {},
     "output_type": "execute_result"
    }
   ],
   "source": [
    "pagerank_df_member.sort_values(by = 'score', ascending=False)"
   ]
  },
  {
   "cell_type": "markdown",
   "id": "a0ccd039",
   "metadata": {},
   "source": [
    "С помощью алгоритма pagerank мы можем определить центральные ноды, как и ожидалось, нода 221 - это Ахромеева Алина Ивановна.Все ноды с высоким показателем это выделенные ноды при визуальном осмотре графа - \n",
    "* Ахромеева Алина Ивановна,22.602140755580333\n",
    "* Башнина Антонина Глебовна,6.702703810275546\n",
    "* Медведева Дарья Алексеевна,3.169495600207817\n",
    "* Диомидов Игорь Ильдарович,2.496731732954958\n",
    "* Зимнухова Карина Даниловна,2.496731732954958\n",
    "* Шолохов Игорь Робертович,1.5114704293475534\n",
    "* Двигубская Валентина Геннадьевна,1.2016188887270551\n",
    "* Пафомова Кира Вадимовна,1.1706822673166937\n"
   ]
  },
  {
   "cell_type": "code",
   "execution_count": 71,
   "id": "ae4f1feb",
   "metadata": {},
   "outputs": [
    {
     "data": {
      "text/plain": [
       "graphName                                                           relait\n",
       "database                                                           graphdb\n",
       "memoryUsage                                                               \n",
       "sizeInBytes                                                             -1\n",
       "nodeCount                                                             9899\n",
       "relationshipCount                                                    10000\n",
       "configuration            {'relationshipProjection': {'PARTICIPATE': {'o...\n",
       "density                                                           0.000102\n",
       "creationTime                           2023-04-05T10:47:27.086869600+03:00\n",
       "modificationTime                       2023-04-05T10:52:25.265706400+03:00\n",
       "schema                   {'graphProperties': {}, 'relationships': {'PAR...\n",
       "schemaWithOrientation    {'graphProperties': {}, 'relationships': {'PAR...\n",
       "Name: 0, dtype: object"
      ]
     },
     "execution_count": 71,
     "metadata": {},
     "output_type": "execute_result"
    }
   ],
   "source": [
    "gds.graph.drop(Member_relait)"
   ]
  },
  {
   "cell_type": "code",
   "execution_count": null,
   "id": "d181c4ab-8584-4337-a612-6a8306282136",
   "metadata": {},
   "outputs": [],
   "source": []
  }
 ],
 "metadata": {
  "kernelspec": {
   "display_name": "Python 3 (ipykernel)",
   "language": "python",
   "name": "python3"
  },
  "language_info": {
   "codemirror_mode": {
    "name": "ipython",
    "version": 3
   },
   "file_extension": ".py",
   "mimetype": "text/x-python",
   "name": "python",
   "nbconvert_exporter": "python",
   "pygments_lexer": "ipython3",
   "version": "3.10.9"
  }
 },
 "nbformat": 4,
 "nbformat_minor": 5
}
